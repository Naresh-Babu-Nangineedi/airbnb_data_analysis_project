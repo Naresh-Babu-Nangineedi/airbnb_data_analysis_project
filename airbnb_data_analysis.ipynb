{
 "cells": [
  {
   "cell_type": "markdown",
   "metadata": {
    "id": "CiYxjMW3y_A-"
   },
   "source": [
    "# **Project: Enhanced Airbnb Listing Analysis for New Hosts in New Brunswick**<br><br>\n",
    "A Comprehensive Guide to Pricing, Occupancy, and Review Optimization"
   ]
  },
  {
   "cell_type": "markdown",
   "metadata": {
    "id": "-MfFEatAy-4l"
   },
   "source": [
    "**Problem Statement** <br>\n",
    "What strategies can new Airbnb hosts in New Brunswick use to attract bookings, optimize pricing, and earn positive guest reviews in their first year of operation?"
   ]
  },
  {
   "cell_type": "markdown",
   "metadata": {
    "id": "F4Hi6_WMy-9O"
   },
   "source": [
    "**Motivation** <br>\n",
    "New hosts often struggle with pricing, visibility, and guest satisfaction. Understanding successful listing strategies can help them gain a competitive edge."
   ]
  },
  {
   "cell_type": "markdown",
   "metadata": {
    "id": "LnlGAJPN0Q4B"
   },
   "source": [
    "This analysis aims to identify key success factors using:\n",
    "\n",
    "Probability-based learning (Logistic Regression, Decision Trees)\n",
    "\n",
    "Information-based learning (Feature Importance, Sentiment Analysis)\n",
    "\n",
    "Interactive EDA (Price vs. Occupancy Trends, Seasonal Analysis)"
   ]
  },
  {
   "cell_type": "markdown",
   "metadata": {
    "id": "RP4eaAAm0Q-c"
   },
   "source": [
    "**Objectives** <br>\n",
    "Identify key success factors for new Airbnb hosts."
   ]
  },
  {
   "cell_type": "markdown",
   "metadata": {
    "id": "wdjAPBZG0kDR"
   },
   "source": [
    "**Approach**\n",
    "\n",
    "1.   Data Collection\n",
    "1.   Data Preprocessing\n",
    "2.   Exploratory Data Analysis (EDA)\n",
    "3.   Feature Engineering\n",
    "2.   Modeling\n",
    "1.   Evaluation\n",
    "2.   Conclusion"
   ]
  },
  {
   "cell_type": "markdown",
   "metadata": {
    "id": "FI_57Bw70kNQ"
   },
   "source": [
    "**Task-1: Data Collection**"
   ]
  },
  {
   "cell_type": "code",
   "execution_count": null,
   "metadata": {
    "id": "iD-I9RPfz8ks"
   },
   "outputs": [],
   "source": [
    "import pandas as pd\n",
    "import numpy as np\n",
    "import matplotlib.pyplot as plt\n",
    "import seaborn as sns\n",
    "import folium\n",
    "from folium.plugins import HeatMap\n",
    "from wordcloud import WordCloud\n",
    "from collections import Counter\n",
    "import ast\n",
    "from textblob import TextBlob\n",
    "from sklearn.model_selection import train_test_split\n",
    "from sklearn.linear_model import LogisticRegression\n",
    "from sklearn.tree import DecisionTreeClassifier\n",
    "from sklearn.ensemble import RandomForestClassifier\n",
    "from sklearn.metrics import classification_report, accuracy_score\n",
    "from sklearn.feature_selection import mutual_info_classif\n",
    "import ipywidgets as widgets\n",
    "from IPython.display import display"
   ]
  },
  {
   "cell_type": "code",
   "execution_count": null,
   "metadata": {
    "id": "j-TRc5T71V4R"
   },
   "outputs": [],
   "source": [
    "# Load dataset\n",
    "url = 'https://raw.githubusercontent.com/Naresh-Babu-Nangineedi/datasets/refs/heads/main/listings.csv'\n",
    "df = pd.read_csv(url)"
   ]
  },
  {
   "cell_type": "code",
   "execution_count": null,
   "metadata": {
    "colab": {
     "base_uri": "https://localhost:8080/",
     "height": 399
    },
    "id": "8aVIh9o32Qko",
    "outputId": "9024ecfe-4372-4ff7-8367-25e2300dc34b"
   },
   "outputs": [],
   "source": [
    "df.head()"
   ]
  },
  {
   "cell_type": "code",
   "execution_count": null,
   "metadata": {
    "colab": {
     "base_uri": "https://localhost:8080/"
    },
    "id": "I5XfYnVM1uOl",
    "outputId": "ad8e611e-225b-481b-ffb2-7df23b880d12"
   },
   "outputs": [],
   "source": [
    "df.info()"
   ]
  },
  {
   "cell_type": "code",
   "execution_count": null,
   "metadata": {
    "colab": {
     "base_uri": "https://localhost:8080/",
     "height": 320
    },
    "id": "TlSKQhRv1zjT",
    "outputId": "5b8d3702-6f0f-4920-ed0a-b3b3fedaa7f6"
   },
   "outputs": [],
   "source": [
    "df.describe()"
   ]
  },
  {
   "cell_type": "markdown",
   "metadata": {
    "id": "WksjW21G2ckU"
   },
   "source": [
    "**Task-2: Data Preprocessing**\n",
    "<br>\n",
    "This section prepares the data by handling missing values, calculating occupancy rate, and converting the last review date for time-series analysis."
   ]
  },
  {
   "cell_type": "code",
   "execution_count": null,
   "metadata": {
    "colab": {
     "base_uri": "https://localhost:8080/",
     "height": 206
    },
    "id": "m99AlQJz2XC3",
    "outputId": "b4f6121c-e576-4c1f-e9f4-7321857ccdf9"
   },
   "outputs": [],
   "source": [
    "# Select relevant columns for analysis\n",
    "df_filtered = df[['price', 'number_of_reviews', 'availability_365', 'latitude', 'longitude', 'last_review']].copy()\n",
    "\n",
    "# Convert price column to numeric and remove any special characters\n",
    "df_filtered['price'] = df_filtered['price'].replace({'\\$': '', ',': ''}, regex=True).astype(float)\n",
    "\n",
    "# Calculate occupancy rate as a new feature\n",
    "df_filtered['occupancy_rate'] = 1 - (df_filtered['availability_365'] / 365)\n",
    "\n",
    "# Handle missing values\n",
    "df_filtered.dropna(subset=['price', 'number_of_reviews'], inplace=True)\n",
    "\n",
    "# Convert 'last_review' column to datetime for time-series analysis\n",
    "df_filtered['last_review'] = pd.to_datetime(df_filtered['last_review'], errors='coerce')\n",
    "\n",
    "# Display first few rows after preprocessing\n",
    "df_filtered.head()\n"
   ]
  },
  {
   "cell_type": "markdown",
   "metadata": {
    "id": "JgzKrkPY2vco"
   },
   "source": [
    "**Task-3: Exploratory Data Analysis (EDA)**"
   ]
  },
  {
   "cell_type": "markdown",
   "metadata": {
    "id": "bDPdwCeY25Jd"
   },
   "source": [
    "**1. Price Distribution**"
   ]
  },
  {
   "cell_type": "code",
   "execution_count": null,
   "metadata": {
    "colab": {
     "base_uri": "https://localhost:8080/",
     "height": 564
    },
    "id": "OveVRJ8q2uoq",
    "outputId": "5030b758-19fe-45cb-ea33-c2b8dfbc42a6"
   },
   "outputs": [],
   "source": [
    "plt.figure(figsize=(10,6))\n",
    "sns.histplot(df_filtered['price'], bins=50, kde=True, color='skyblue')\n",
    "plt.title('Price Distribution of Airbnb Listings in New Brunswick')\n",
    "plt.xlabel('Price (CAD)')\n",
    "plt.ylabel('Frequency')\n",
    "plt.show()"
   ]
  },
  {
   "cell_type": "markdown",
   "metadata": {
    "id": "YR0udqxh8wPL"
   },
   "source": [
    "2. Heatmap of the Data"
   ]
  },
  {
   "cell_type": "code",
   "execution_count": null,
   "metadata": {
    "colab": {
     "base_uri": "https://localhost:8080/",
     "height": 819
    },
    "id": "Ike1oXKpLWVu",
    "outputId": "00b048b8-8b75-4e6d-f32d-7c8d2bce3610"
   },
   "outputs": [],
   "source": [
    "# Compute correlation matrix\n",
    "corr_matrix = df_filtered.corr()\n",
    "\n",
    "# Plot heatmap\n",
    "plt.figure(figsize=(10, 8))\n",
    "sns.heatmap(corr_matrix, annot=True, cmap='coolwarm', linewidths=0.5)\n",
    "plt.title('Correlation Heatmap of Airbnb Data')\n",
    "plt.show()"
   ]
  },
  {
   "cell_type": "markdown",
   "metadata": {
    "id": "38dkDRN73Bfe"
   },
   "source": [
    "3. Price vs. Occupancy Rate"
   ]
  },
  {
   "cell_type": "code",
   "execution_count": null,
   "metadata": {
    "colab": {
     "base_uri": "https://localhost:8080/",
     "height": 564
    },
    "id": "xmV45_AD2urj",
    "outputId": "b4d109b5-71bd-4cca-8ffe-9ad8c288cf09"
   },
   "outputs": [],
   "source": [
    "plt.figure(figsize=(10,6))\n",
    "sns.scatterplot(x='price', y='occupancy_rate', data=df_filtered, alpha=0.6, color='blue')\n",
    "plt.title('Price vs. Occupancy Rate')\n",
    "plt.xlabel('Price (CAD)')\n",
    "plt.ylabel('Occupancy Rate (%)')\n",
    "plt.grid(True)\n",
    "plt.show()"
   ]
  },
  {
   "cell_type": "markdown",
   "metadata": {
    "id": "yRFn4slv2vBS"
   },
   "source": [
    "4. Impact of Reviews on Occupancy"
   ]
  },
  {
   "cell_type": "code",
   "execution_count": null,
   "metadata": {
    "colab": {
     "base_uri": "https://localhost:8080/",
     "height": 564
    },
    "id": "H_WKY9yl2uuK",
    "outputId": "6b8acac9-6731-4f48-aa33-1a862e3de8b1"
   },
   "outputs": [],
   "source": [
    "review_impact = df_filtered.groupby('number_of_reviews')['occupancy_rate'].mean().reset_index()\n",
    "plt.figure(figsize=(10,6))\n",
    "sns.lineplot(x='number_of_reviews', y='occupancy_rate', data=review_impact, marker='o', color='green')\n",
    "plt.title('Number of Reviews vs. Occupancy Rate')\n",
    "plt.xlabel('Number of Reviews')\n",
    "plt.ylabel('Average Occupancy Rate (%)')\n",
    "plt.grid(True)\n",
    "plt.show()"
   ]
  },
  {
   "cell_type": "markdown",
   "metadata": {
    "id": "htxMCE7r37lQ"
   },
   "source": [
    "**Task-4: Feature Engineering**"
   ]
  },
  {
   "cell_type": "code",
   "execution_count": null,
   "metadata": {
    "id": "cZZw_HJu3Qri"
   },
   "outputs": [],
   "source": [
    "# Define target: High occupancy (availability < 30 days)\n",
    "df_filtered['high_occupancy'] = df_filtered['availability_365'] < 30\n",
    "\n",
    "# Train-test split\n",
    "X = df_filtered[['price', 'number_of_reviews']]\n",
    "y = df_filtered['high_occupancy']\n",
    "X_train, X_test, y_train, y_test = train_test_split(X, y, test_size=0.2, random_state=42)"
   ]
  },
  {
   "cell_type": "markdown",
   "metadata": {
    "id": "m5W7sKe94Lbw"
   },
   "source": [
    "**Task-5: Modeling**"
   ]
  },
  {
   "cell_type": "markdown",
   "metadata": {
    "id": "lGXWHqvs4cmC"
   },
   "source": [
    "**5.1 Probability-Based Learning (Logistic Regression for Occupancy Prediction)**\n",
    "\n",
    "Logistic Regression is a probability-based learning technique used for classification problems. In the context of occupancy prediction, it estimates the probability that a given rental listing is occupied based on various features such as price, location, and seasonal trends.\n",
    "<br>\n",
    "**Model Training Process** <br>\n",
    "Feature Selection: The dataset is split into input features (X_train) and the target variable (y_train), where y_train indicates whether a listing is occupied or not.\n",
    "\n",
    "**Model Initialization:** A logistic regression model is instantiated using LogisticRegression().\n",
    "\n",
    "**Model Training:** The fit() method trains the model by learning the relationship between the input features and occupancy status.\n",
    "\n",
    "This model outputs a probability score, which can be used to classify whether a listing is occupied (e.g., probability > 0.5 means occupied). Logistic regression is a simple yet effective approach for binary classification tasks like occupancy prediction."
   ]
  },
  {
   "cell_type": "code",
   "execution_count": null,
   "metadata": {
    "colab": {
     "base_uri": "https://localhost:8080/",
     "height": 80
    },
    "id": "pgEuBS9M3Qy9",
    "outputId": "8a390019-5dd1-4209-a74a-d45f0b93fa20"
   },
   "outputs": [],
   "source": [
    "# Train logistic regression model\n",
    "model = LogisticRegression()\n",
    "model.fit(X_train, y_train)"
   ]
  },
  {
   "cell_type": "code",
   "execution_count": null,
   "metadata": {
    "colab": {
     "base_uri": "https://localhost:8080/"
    },
    "id": "hD4noNcR40z5",
    "outputId": "080970ff-2882-4f08-cbf6-55d46f71da19"
   },
   "outputs": [],
   "source": [
    "# Predict probabilities\n",
    "y_pred_prob = model.predict_proba(X_test)[:, 1]\n",
    "y_pred = model.predict(X_test)\n",
    "\n",
    "print(\"Model trained successfully! Predictions available.\")"
   ]
  },
  {
   "cell_type": "code",
   "execution_count": null,
   "metadata": {
    "colab": {
     "base_uri": "https://localhost:8080/"
    },
    "id": "O3NGVTJZLc_2",
    "outputId": "091860f1-fe54-4321-9602-0c1b2a826fef"
   },
   "outputs": [],
   "source": [
    "# Print model accuracy and classification report\n",
    "print(\"Logistic Regression Accuracy:\", accuracy_score(y_test, y_pred)*100)\n",
    "print(\"Classification Report:\\n\", classification_report(y_test, y_pred))"
   ]
  },
  {
   "cell_type": "markdown",
   "metadata": {
    "id": "7VlVEGg844Ux"
   },
   "source": [
    "**5.2 Information-Based Learning (Decision Tree for Feature Importance)**\n",
    "\n",
    "Decision Tree classifiers use an information-based learning approach, where they split data based on the most significant features to maximize information gain. In the context of occupancy prediction, the Decision Tree model identifies key factors (e.g., price, location, seasonality) that impact occupancy rates.\n",
    "\n",
    "**Model Training Process** <br>\n",
    "**Feature Importance:** The model ranks features based on their contribution to occupancy prediction.\n",
    "\n",
    "**Decision Boundaries:** The tree splits data at different levels, creating a structured way to classify listings.\n",
    "\n",
    "**Interpretability:** Decision Trees are easy to interpret, making them useful for understanding which factors influence occupancy."
   ]
  },
  {
   "cell_type": "code",
   "execution_count": null,
   "metadata": {
    "colab": {
     "base_uri": "https://localhost:8080/",
     "height": 80
    },
    "id": "shzfOsYX4586",
    "outputId": "03b44a67-b1b1-4572-ece8-2e9bc88f95b6"
   },
   "outputs": [],
   "source": [
    "# Train decision tree model\n",
    "tree_model = DecisionTreeClassifier(max_depth=5)\n",
    "tree_model.fit(X_train, y_train)"
   ]
  },
  {
   "cell_type": "code",
   "execution_count": null,
   "metadata": {
    "colab": {
     "base_uri": "https://localhost:8080/"
    },
    "id": "J7usMp14MAlP",
    "outputId": "1cb66c9c-8d87-40e0-f73b-ba829efb3ab5"
   },
   "outputs": [],
   "source": [
    "y_pred_tree = tree_model.predict(X_test)\n",
    "print(\"Decision Tree Accuracy:\", accuracy_score(y_test, y_pred_tree)*100)"
   ]
  },
  {
   "cell_type": "code",
   "execution_count": null,
   "metadata": {
    "id": "8Lcrlduo48VK"
   },
   "outputs": [],
   "source": [
    "# Feature importance\n",
    "importance = tree_model.feature_importances_\n",
    "feature_names = X.columns\n",
    "feature_importance = pd.DataFrame({'Feature': feature_names, 'Importance': importance}).sort_values(by='Importance', ascending=False)\n"
   ]
  },
  {
   "cell_type": "code",
   "execution_count": null,
   "metadata": {
    "colab": {
     "base_uri": "https://localhost:8080/",
     "height": 748
    },
    "id": "4Fi7cVy29-QG",
    "outputId": "4acd2cce-5417-4d0f-fee3-feb29fb7db16"
   },
   "outputs": [],
   "source": [
    "# Visualize the decision tree\n",
    "from sklearn.tree import plot_tree\n",
    "\n",
    "plt.figure(figsize=(20,10))\n",
    "plot_tree(tree_model, feature_names=feature_names, class_names=['Low Occupancy', 'High Occupancy'], filled=True, rounded=True)\n",
    "plt.title(\"Decision Tree Visualization\")\n",
    "plt.show()"
   ]
  },
  {
   "cell_type": "code",
   "execution_count": null,
   "metadata": {
    "colab": {
     "base_uri": "https://localhost:8080/",
     "height": 626
    },
    "id": "JOXxOyzL48Zt",
    "outputId": "20e80610-563d-43a8-bd6e-7d69fa30c9b9"
   },
   "outputs": [],
   "source": [
    "# Plot feature importance\n",
    "plt.figure(figsize=(8,5))\n",
    "sns.barplot(x=feature_importance['Feature'], y=feature_importance['Importance'], palette=\"coolwarm\")\n",
    "plt.title(\"Feature Importance for Occupancy Prediction\")\n",
    "plt.show()\n",
    "\n",
    "# Print feature importance\n",
    "print(feature_importance)"
   ]
  },
  {
   "cell_type": "markdown",
   "metadata": {
    "id": "a368EkLI5Eri"
   },
   "source": [
    "**Task-6: Evaluation**"
   ]
  },
  {
   "cell_type": "markdown",
   "metadata": {
    "id": "acXfRwKF5KOS"
   },
   "source": [
    "6.1 Interactive Price vs. Occupancy Analysis"
   ]
  },
  {
   "cell_type": "code",
   "execution_count": null,
   "metadata": {
    "colab": {
     "base_uri": "https://localhost:8080/",
     "height": 519,
     "referenced_widgets": [
      "81dbb2e1dfee41cdbc2ed810ac231f68",
      "9dcf2e303ba9489ba0b036cea561b408",
      "5aa0fe91341f4f69a8d1cf77a012a3d8",
      "f7c42ed880a14c93a295f5d9c8a22e6d",
      "8983729338784529af77dfc3a79fe368",
      "4a80038b75414d0eb7ef5e8174a6b4b5",
      "3d224383976e4447846f1f884dcc48a4"
     ]
    },
    "id": "WEdxbxhd5HbA",
    "outputId": "0f9a8eef-3846-41a7-da81-f346a6ecd8ea"
   },
   "outputs": [],
   "source": [
    "def plot_price_vs_occupancy(price_range=(50, 150)):\n",
    "    filtered_df = df_filtered[(df_filtered['price'] >= price_range[0]) & (df_filtered['price'] <= price_range[1])]\n",
    "\n",
    "    plt.figure(figsize=(8,5))\n",
    "    plt.scatter(filtered_df['price'], filtered_df['occupancy_rate'], alpha=0.5, color='blue')\n",
    "    plt.xlabel('Price (CAD)')\n",
    "    plt.ylabel('Occupancy Rate')\n",
    "    plt.title('Price vs Occupancy for New Hosts')\n",
    "    plt.grid(True)\n",
    "    plt.show()\n",
    "\n",
    "# Interactive slider for price range\n",
    "price_slider = widgets.IntRangeSlider(\n",
    "    value=[50, 150],\n",
    "    min=20,\n",
    "    max=300,\n",
    "    step=5,\n",
    "    description='Price Range:',\n",
    "    continuous_update=False\n",
    ")\n",
    "\n",
    "widgets.interactive(plot_price_vs_occupancy, price_range=price_slider)"
   ]
  },
  {
   "cell_type": "markdown",
   "metadata": {
    "id": "vqt9xeFA5RSk"
   },
   "source": [
    "6.2 Sentiment Analysis on Guest Reviews"
   ]
  },
  {
   "cell_type": "code",
   "execution_count": null,
   "metadata": {
    "id": "SE6C8gF55Lz9"
   },
   "outputs": [],
   "source": [
    "def sentiment_analysis(text):\n",
    "    # Check if the text is NaN or if the review is empty\n",
    "    if pd.isna(text) or not isinstance(text, str):\n",
    "        return \"Neutral\"\n",
    "\n",
    "    sentiment_score = TextBlob(text).sentiment.polarity\n",
    "    if sentiment_score > 0:\n",
    "        return \"Positive\"\n",
    "    elif sentiment_score < 0:\n",
    "        return \"Negative\"\n",
    "    else:\n",
    "        return \"Neutral\""
   ]
  },
  {
   "cell_type": "code",
   "execution_count": null,
   "metadata": {
    "colab": {
     "base_uri": "https://localhost:8080/",
     "height": 521
    },
    "id": "9wdbtWrG5Sxq",
    "outputId": "8f707e53-ee6d-4dba-e987-895de854cd2e"
   },
   "outputs": [],
   "source": [
    "# Ensure that the 'last_review' column is a string before applying sentiment analysis\n",
    "df_filtered['last_review'] = df_filtered['last_review'].astype(str)\n",
    "\n",
    "# Apply sentiment analysis to the reviews\n",
    "df_filtered['sentiment'] = df_filtered['last_review'].apply(lambda x: sentiment_analysis(x))\n",
    "\n",
    "# Sentiment distribution\n",
    "sentiment_counts = df_filtered['sentiment'].value_counts()\n",
    "\n",
    "# Pie chart of sentiment distribution\n",
    "plt.figure(figsize=(6,6))\n",
    "plt.pie(sentiment_counts, labels=sentiment_counts.index, autopct='%1.1f%%', colors=['green', 'gray', 'red'], startangle=140)\n",
    "plt.title(\"Sentiment Analysis of Guest Reviews\")\n",
    "plt.show()"
   ]
  },
  {
   "cell_type": "markdown",
   "metadata": {
    "id": "CRfHA4Gg5atF"
   },
   "source": [
    "6.3 Time Series Analysis (Seasonal Trends)"
   ]
  },
  {
   "cell_type": "code",
   "execution_count": null,
   "metadata": {
    "colab": {
     "base_uri": "https://localhost:8080/",
     "height": 487
    },
    "id": "pZfssL8f5cMM",
    "outputId": "9d2248f5-46c3-4821-c9f7-20efd66bbf0d"
   },
   "outputs": [],
   "source": [
    "# Extract month from the last review\n",
    "df_filtered['last_review'] = pd.to_datetime(df_filtered['last_review'], errors='coerce')\n",
    "df_filtered['month'] = df_filtered['last_review'].dt.month\n",
    "\n",
    "# Group by month and calculate averages\n",
    "monthly_trends = df_filtered.groupby('month').agg({'price': 'mean', 'occupancy_rate': 'mean'}).reset_index()\n",
    "\n",
    "# Plot\n",
    "plt.figure(figsize=(8,5))\n",
    "sns.lineplot(x=monthly_trends['month'], y=monthly_trends['price'], marker='o', label=\"Avg Price\", color=\"blue\")\n",
    "sns.lineplot(x=monthly_trends['month'], y=monthly_trends['occupancy_rate']*100, marker='o', label=\"Occupancy Rate (%)\", color=\"red\")\n",
    "plt.xticks(range(1,13), ['Jan', 'Feb', 'Mar', 'Apr', 'May', 'Jun', 'Jul', 'Aug', 'Sep', 'Oct', 'Nov', 'Dec'])\n",
    "plt.xlabel(\"Month\")\n",
    "plt.ylabel(\"Value\")\n",
    "plt.title(\"Seasonal Trends in Price & Occupancy\")\n",
    "plt.legend()\n",
    "plt.grid(True)\n",
    "plt.show()"
   ]
  },
  {
   "cell_type": "markdown",
   "metadata": {
    "id": "KRxRrMW957eZ"
   },
   "source": [
    "**Task-7: Conclusion:**"
   ]
  },
  {
   "cell_type": "code",
   "execution_count": null,
   "metadata": {
    "colab": {
     "base_uri": "https://localhost:8080/"
    },
    "id": "wvc4f1B451qv",
    "outputId": "770223b2-ef7f-4a53-a997-6688ffd1c8f2"
   },
   "outputs": [],
   "source": [
    "# Conclusion: Display important features from Decision Tree\n",
    "print(\"Key Features Affecting Occupancy:\")\n",
    "print(feature_importance)\n",
    "\n",
    "# Key conclusion and actionable insights:\n",
    "# - Price and number of reviews are significant factors affecting occupancy.\n",
    "# - Positive guest reviews can significantly boost occupancy rates.\n",
    "# occupancy rates during peak months."
   ]
  },
  {
   "cell_type": "code",
   "execution_count": null,
   "metadata": {
    "colab": {
     "base_uri": "https://localhost:8080/",
     "height": 574
    },
    "id": "_O8IeEiq6AIJ",
    "outputId": "e56495ed-8804-4b84-ed76-3b5782000fa3"
   },
   "outputs": [],
   "source": [
    "plt.figure(figsize=(8,5))\n",
    "sns.barplot(x=feature_importance['Feature'], y=feature_importance['Importance'], palette=\"coolwarm\")\n",
    "plt.title(\"Feature Importance for Occupancy Prediction\")\n",
    "plt.xlabel(\"Feature\")\n",
    "plt.ylabel(\"Importance\")\n",
    "plt.show()"
   ]
  },
  {
   "cell_type": "markdown",
   "metadata": {
    "id": "5H2uNKOl6mPg"
   },
   "source": [
    "**Key Features:**\n",
    "\n",
    "*   **Price:** Hosts with competitive pricing see higher occupancy, especially during off-peak months.\n",
    "*   **Number of Reviews:** Properties with higher review counts and better ratings experience higher occupancy.\n",
    "*  **Seasonal Trends:** Hosts should adjust prices based on seasonality to maximize occupancy and revenue\n",
    "\n",
    "\n",
    "**Actionable Insights:**\n",
    "\n",
    "**Optimize Pricing:** Hosts should experiment with dynamic pricing and analyze peak periods to adjust prices accordingly.\n",
    "\n",
    "**Focus on Reviews:** Providing excellent guest experiences can lead to positive reviews and repeat bookings, increasing occupancy."
   ]
  }
 ],
 "metadata": {
  "colab": {
   "provenance": []
  },
  "kernelspec": {
   "display_name": "Python 3",
   "name": "python3"
  },
  "language_info": {
   "name": "python"
  }
 },
 "nbformat": 4,
 "nbformat_minor": 0
}
